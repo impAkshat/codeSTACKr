{
  "nbformat": 4,
  "nbformat_minor": 0,
  "metadata": {
    "colab": {
      "name": "Assignment2.ipynb",
      "provenance": [],
      "include_colab_link": true
    },
    "kernelspec": {
      "name": "python3",
      "display_name": "Python 3"
    },
    "language_info": {
      "name": "python"
    },
    "accelerator": "GPU"
  },
  "cells": [
    {
      "cell_type": "markdown",
      "metadata": {
        "id": "view-in-github",
        "colab_type": "text"
      },
      "source": [
        "<a href=\"https://colab.research.google.com/github/impAkshat/codeSTACKr/blob/master/ML%20Assignment2.ipynb\" target=\"_parent\"><img src=\"https://colab.research.google.com/assets/colab-badge.svg\" alt=\"Open In Colab\"/></a>"
      ]
    },
    {
      "cell_type": "markdown",
      "source": [
        "# **Assignment 2**\n",
        "## Linear Regression line and best fit."
      ],
      "metadata": {
        "id": "iSNXy3clZVSC"
      }
    },
    {
      "cell_type": "code",
      "source": [
        "import numpy as np\n",
        "import pandas as pd\n",
        "import matplotlib.pyplot as plt\n",
        "from mpl_toolkits import mplot3d\n",
        "import sklearn.linear_model as lm\n",
        "import keras"
      ],
      "metadata": {
        "id": "Xwnf_pZFahGX"
      },
      "execution_count": null,
      "outputs": []
    },
    {
      "cell_type": "code",
      "source": [
        "def prepare(d, n, seed=0):\n",
        "  np.random.seed(seed)\n",
        "  data=np.random.rand(n, d)*100\n",
        "  return pd.DataFrame(data)"
      ],
      "metadata": {
        "id": "OevXRYBvalLG"
      },
      "execution_count": null,
      "outputs": []
    },
    {
      "cell_type": "code",
      "source": [
        "def make2Dmodel(n):\n",
        "  df = prepare(2, n)\n",
        "  X = np.c_[df[0]]\n",
        "  Y = np.c_[df[1]]\n",
        "\n",
        "  model = keras.Sequential()\n",
        "  model.add(keras.layers.Dense(8, input_shape=(1,), activation = 'linear'))\n",
        "  model.add(keras.layers.Dense(4, activation = 'linear'))\n",
        "  model.add(keras.layers.Dense(1, activation = 'linear'))\n",
        "  model.compile(optimizer=\"Adam\",  loss='mean_squared_error' )\n",
        "\n",
        "  model.fit(X ,Y, epochs=100, batch_size=3)\n",
        "\n",
        "  plt.scatter(X, Y)\n",
        "  plt.plot(X, model.predict(X), color='red')\n",
        "\n",
        "  print(f\"MSE of model: {sum((Y - model.predict(X))**2)[0]/n}\\n\")"
      ],
      "metadata": {
        "id": "TLvdSEfQanby"
      },
      "execution_count": null,
      "outputs": []
    },
    {
      "cell_type": "code",
      "source": [
        "def make3Dmodel(n):\n",
        "  df = prepare(3, n)\n",
        "  x = df.drop([2], axis = 1).values\n",
        "  Z = df[2].values\n",
        "\n",
        "  model = lm.LinearRegression().fit(x, Z)\n",
        "  \n",
        "  coef = model.coef_\n",
        "  intercept = model.intercept_\n",
        "\n",
        "  X = x[:, 0]\n",
        "  Y = x[:, 1]\n",
        "\n",
        "  xx = np.linspace(0, 100, 100)\n",
        "  yy = np.linspace(0, 100, 100)\n",
        "  xx, yy = np.meshgrid(xx, yy)\n",
        "\n",
        "  zz = coef[0]*xx + coef[1]*yy + intercept\n",
        "\n",
        "  print(f\"MSE of model: {sum((Z - model.predict(x))**2)/n}\")\n",
        "\n",
        "  fig = plt.figure()\n",
        "  ax = fig.add_subplot(111, projection = '3d')\n",
        "  ax.plot_surface(xx, yy, zz, color = 'red', alpha = 0.5)\n",
        "  ax.scatter(X, Y, Z, alpha = 1)\n",
        "  ax.view_init(elev=28, azim=120)\n",
        "\n",
        "  fig = plt.figure()\n",
        "  ax = fig.add_subplot(111, projection = '3d')\n",
        "  ax.plot_surface(xx, yy, zz, color = 'red', alpha = 0.5)\n",
        "  ax.scatter(X, Y, Z, alpha = 1)\n",
        "  ax.view_init(elev=4, azim=114)\n",
        "\n",
        "  fig = plt.figure()\n",
        "  ax = fig.add_subplot(111, projection = '3d')\n",
        "  ax.plot_surface(xx, yy, zz, color = 'red', alpha = 0.5)\n",
        "  ax.scatter(X, Y, Z, alpha = 1)\n",
        "  ax.view_init(elev=60, azim=165)"
      ],
      "metadata": {
        "id": "zFmM_LuEaqUz"
      },
      "execution_count": null,
      "outputs": []
    },
    {
      "cell_type": "code",
      "source": [
        "make2Dmodel(100)"
      ],
      "metadata": {
        "id": "RiySGfuqasz4"
      },
      "execution_count": null,
      "outputs": []
    },
    {
      "cell_type": "code",
      "source": [
        "make2Dmodel(1000)"
      ],
      "metadata": {
        "id": "7G2msOHAaxC_"
      },
      "execution_count": null,
      "outputs": []
    },
    {
      "cell_type": "code",
      "source": [
        "make3Dmodel(100)"
      ],
      "metadata": {
        "id": "ZZfbTwK-azHp"
      },
      "execution_count": null,
      "outputs": []
    },
    {
      "cell_type": "code",
      "source": [
        "make3Dmodel(1000)"
      ],
      "metadata": {
        "id": "aYHsx92Pa18f"
      },
      "execution_count": null,
      "outputs": []
    },
    {
      "cell_type": "code",
      "source": [
        "\n"
      ],
      "metadata": {
        "id": "N6IoY3d5sgzV"
      },
      "execution_count": null,
      "outputs": []
    },
    {
      "cell_type": "code",
      "source": [
        ""
      ],
      "metadata": {
        "id": "n1f1N6U0sit9"
      },
      "execution_count": null,
      "outputs": []
    }
  ]
}